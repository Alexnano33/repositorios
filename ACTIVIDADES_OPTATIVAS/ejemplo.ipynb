{
 "cells": [
  {
   "cell_type": "markdown",
   "metadata": {},
   "source": [
    "# Mi primer Notebook!"
   ]
  },
  {
   "cell_type": "markdown",
   "metadata": {},
   "source": [
    "2do CB. Viñuelas Vicente Alejandro"
   ]
  },
  {
   "cell_type": "code",
   "execution_count": 1,
   "metadata": {},
   "outputs": [
    {
     "name": "stdout",
     "output_type": "stream",
     "text": [
      "Hola mundo\n"
     ]
    }
   ],
   "source": [
    "print(\"Hola mundo\")"
   ]
  },
  {
   "cell_type": "markdown",
   "metadata": {},
   "source": [
    "## Mis primeros descriptivos con Pandas"
   ]
  },
  {
   "cell_type": "markdown",
   "metadata": {},
   "source": [
    "El código importa la biblioteca `pandas`, utilizada para análisis y manipulación de datos en Python."
   ]
  },
  {
   "cell_type": "code",
   "execution_count": 2,
   "metadata": {},
   "outputs": [],
   "source": [
    "import pandas\n"
   ]
  },
  {
   "cell_type": "markdown",
   "metadata": {},
   "source": [
    "Este código crea un **DataFrame** con los datos proporcionados: edades y pesos organizados en columnas."
   ]
  },
  {
   "cell_type": "code",
   "execution_count": 11,
   "metadata": {},
   "outputs": [],
   "source": [
    "datos = {\n",
    "    'edad': [8, 9, 10, 11, 12],\n",
    "    'peso': [30, 32, 35, 37, 40]\n",
    "}# Define un diccionario con los datos de edad y peso\n",
    "df = pandas.DataFrame(datos)\n",
    "# Crea un DataFrame a partir del diccionario usando pandas"
   ]
  },
  {
   "cell_type": "markdown",
   "metadata": {},
   "source": [
    "Este código calcula y muestra las estadísticas básicas de las columnas **edad** y **peso** en el DataFrame:\n",
    "\n",
    "1. **Media de Edad**: Promedio de las edades en la columna `'edad'`.\n",
    "2. **Desviación Típica de Edad**: Variabilidad de las edades respecto a su media.\n",
    "3. **Media de Peso**: Promedio de los pesos en la columna `'peso'`.\n",
    "4. **Desviación Típica de Peso**: Variabilidad de los pesos respecto a su media.\n",
    "\n",
    "Finalmente, imprime estos valores con etiquetas descriptivas."
   ]
  },
  {
   "cell_type": "code",
   "execution_count": 17,
   "metadata": {},
   "outputs": [
    {
     "name": "stdout",
     "output_type": "stream",
     "text": [
      "Media de Edad 10.0\n",
      "Desviación Típica de Edad; 1.5811388300841898\n",
      "Media de Peso: 34.8\n",
      "Desviación Típica de Peso; 3.9623225512317903\n"
     ]
    }
   ],
   "source": [
    "media_edad = df['edad'].mean()\n",
    "# Calcula la media de la columna 'edad' del DataFrame\n",
    "desviacion_tipica_edad = df['edad'].std()\n",
    "# Calcula la desviación típica de la columna 'edad' del DataFrame\n",
    "\n",
    "media_peso = df['peso'].mean()\n",
    "# Calcula la media de la columna 'peso' del DataFrame\n",
    "desviacion_tipica_peso = df['peso'].std()\n",
    "# Calcula la desviación típica de la columna 'peso' del DataFrame\n",
    "\n",
    "print('Media de Edad', media_edad)\n",
    "# Imprime la media de la edad\n",
    "print('Desviación Típica de Edad;', desviacion_tipica_edad)\n",
    "# Imprime la desviación típica de la edad\n",
    "print('Media de Peso:', media_peso)\n",
    "# Imprime la media del peso\n",
    "print('Desviación Típica de Peso;', desviacion_tipica_peso)\n",
    "# Imprime la desviación típica del peso"
   ]
  }
 ],
 "metadata": {
  "kernelspec": {
   "display_name": "Python 3",
   "language": "python",
   "name": "python3"
  },
  "language_info": {
   "codemirror_mode": {
    "name": "ipython",
    "version": 3
   },
   "file_extension": ".py",
   "mimetype": "text/x-python",
   "name": "python",
   "nbconvert_exporter": "python",
   "pygments_lexer": "ipython3",
   "version": "3.11.9"
  }
 },
 "nbformat": 4,
 "nbformat_minor": 2
}
